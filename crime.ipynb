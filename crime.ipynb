{
 "cells": [
  {
   "cell_type": "code",
   "execution_count": 1,
   "metadata": {},
   "outputs": [],
   "source": [
    "import psycopg2\n",
    "import pandas as pd"
   ]
  },
  {
   "cell_type": "code",
   "execution_count": null,
   "metadata": {},
   "outputs": [
    {
     "name": "stdout",
     "output_type": "stream",
     "text": [
      "CSV file imported successfully!\n"
     ]
    }
   ],
   "source": [
    "import psycopg2\n",
    "\n",
    "# Connection parameters\n",
    "user = \"c_mini\"  \n",
    "password = \"fill in later\"     \n",
    "host = \"project4.postgres.database.azure.com\"\n",
    "port = 5432\n",
    "database = \"lapd_ml\"\n",
    "\n",
    "# File path to your CSV file\n",
    "csv_file_path = \"Resources/date_time_crime_data.csv\"  \n",
    "\n",
    "try:\n",
    "    # Connect to PostgreSQL\n",
    "    conn = psycopg2.connect(\n",
    "        user=user,\n",
    "        password=password,\n",
    "        host=host,\n",
    "        port=port,\n",
    "        database=database,\n",
    "        sslmode='require'\n",
    "    )\n",
    "    cursor = conn.cursor()\n",
    "\n",
    "    # Use COPY command to load data\n",
    "    with open(csv_file_path, 'r') as f:\n",
    "        cursor.copy_expert(\"COPY date_time FROM STDIN WITH CSV HEADER\", f)\n",
    "        conn.commit()\n",
    "        print(\"CSV file imported successfully!\")\n",
    "\n",
    "except Exception as e:\n",
    "    print(\"Error:\", e)\n",
    "\n",
    "finally:\n",
    "    if conn:\n",
    "        cursor.close()\n",
    "        conn.close()\n"
   ]
  },
  {
   "cell_type": "code",
   "execution_count": 15,
   "metadata": {},
   "outputs": [
    {
     "name": "stderr",
     "output_type": "stream",
     "text": [
      "C:\\Users\\Carl\\AppData\\Local\\Temp\\ipykernel_11792\\1211322751.py:23: UserWarning: pandas only supports SQLAlchemy connectable (engine/connection) or database string URI or sqlite3 DBAPI2 connection. Other DBAPI2 objects are not tested. Please consider using SQLAlchemy.\n",
      "  df = pd.read_sql(query, conn)\n"
     ]
    },
    {
     "name": "stdout",
     "output_type": "stream",
     "text": [
      "         date_rptd    date_occ  time day_or_night  crm_cd\n",
      "0       2020-03-01  2020-03-01  2130        Night     510\n",
      "1       2020-02-09  2020-02-08  1800        Night     330\n",
      "2       2020-11-11  2020-11-04  1700          Day     480\n",
      "3       2023-05-10  2020-03-10  2037        Night     343\n",
      "4       2022-08-18  2020-08-17  1200          Day     354\n",
      "...            ...         ...   ...          ...     ...\n",
      "966946  2024-01-16  2024-01-16  1510          Day     624\n",
      "966947  2024-07-24  2024-07-23  1400          Day     510\n",
      "966948  2024-01-15  2024-01-15   100        Night     745\n",
      "966949  2024-07-19  2024-07-19   757          Day     888\n",
      "966950  2024-04-24  2024-04-24  1500          Day     230\n",
      "\n",
      "[966951 rows x 5 columns]\n"
     ]
    }
   ],
   "source": [
    "# Connection parameters\n",
    "user = \"c_mini\"\n",
    "password = \"SalaMandar18@!\"\n",
    "host = \"project4.postgres.database.azure.com\"\n",
    "port = 5432\n",
    "database = \"lapd_ml\"\n",
    "\n",
    "# SQL query to fetch data from the table\n",
    "query = \"SELECT * FROM date_time;\"  # Replace with your table name\n",
    "\n",
    "try:\n",
    "    # Connect to PostgreSQL\n",
    "    conn = psycopg2.connect(\n",
    "        user=user,\n",
    "        password=password,\n",
    "        host=host,\n",
    "        port=port,\n",
    "        database=database,\n",
    "        sslmode='require'\n",
    "    )\n",
    "\n",
    "    # Use pandas to execute the query and load the results into a DataFrame\n",
    "    df = pd.read_sql(query, conn)\n",
    "\n",
    "    # Display the DataFrame\n",
    "    print(df)\n",
    "\n",
    "except Exception as e:\n",
    "    print(\"Error while connecting to PostgreSQL:\", e)\n",
    "\n",
    "finally:\n",
    "    # Close the connection\n",
    "    if conn:\n",
    "        conn.close()"
   ]
  },
  {
   "cell_type": "code",
   "execution_count": 16,
   "metadata": {},
   "outputs": [
    {
     "data": {
      "text/html": [
       "<div>\n",
       "<style scoped>\n",
       "    .dataframe tbody tr th:only-of-type {\n",
       "        vertical-align: middle;\n",
       "    }\n",
       "\n",
       "    .dataframe tbody tr th {\n",
       "        vertical-align: top;\n",
       "    }\n",
       "\n",
       "    .dataframe thead th {\n",
       "        text-align: right;\n",
       "    }\n",
       "</style>\n",
       "<table border=\"1\" class=\"dataframe\">\n",
       "  <thead>\n",
       "    <tr style=\"text-align: right;\">\n",
       "      <th></th>\n",
       "      <th>date_rptd</th>\n",
       "      <th>date_occ</th>\n",
       "      <th>time</th>\n",
       "      <th>day_or_night</th>\n",
       "      <th>crm_cd</th>\n",
       "    </tr>\n",
       "  </thead>\n",
       "  <tbody>\n",
       "    <tr>\n",
       "      <th>0</th>\n",
       "      <td>2020-03-01</td>\n",
       "      <td>2020-03-01</td>\n",
       "      <td>2130</td>\n",
       "      <td>Night</td>\n",
       "      <td>510</td>\n",
       "    </tr>\n",
       "    <tr>\n",
       "      <th>1</th>\n",
       "      <td>2020-02-09</td>\n",
       "      <td>2020-02-08</td>\n",
       "      <td>1800</td>\n",
       "      <td>Night</td>\n",
       "      <td>330</td>\n",
       "    </tr>\n",
       "    <tr>\n",
       "      <th>2</th>\n",
       "      <td>2020-11-11</td>\n",
       "      <td>2020-11-04</td>\n",
       "      <td>1700</td>\n",
       "      <td>Day</td>\n",
       "      <td>480</td>\n",
       "    </tr>\n",
       "    <tr>\n",
       "      <th>3</th>\n",
       "      <td>2023-05-10</td>\n",
       "      <td>2020-03-10</td>\n",
       "      <td>2037</td>\n",
       "      <td>Night</td>\n",
       "      <td>343</td>\n",
       "    </tr>\n",
       "    <tr>\n",
       "      <th>4</th>\n",
       "      <td>2022-08-18</td>\n",
       "      <td>2020-08-17</td>\n",
       "      <td>1200</td>\n",
       "      <td>Day</td>\n",
       "      <td>354</td>\n",
       "    </tr>\n",
       "  </tbody>\n",
       "</table>\n",
       "</div>"
      ],
      "text/plain": [
       "    date_rptd    date_occ  time day_or_night  crm_cd\n",
       "0  2020-03-01  2020-03-01  2130        Night     510\n",
       "1  2020-02-09  2020-02-08  1800        Night     330\n",
       "2  2020-11-11  2020-11-04  1700          Day     480\n",
       "3  2023-05-10  2020-03-10  2037        Night     343\n",
       "4  2022-08-18  2020-08-17  1200          Day     354"
      ]
     },
     "execution_count": 16,
     "metadata": {},
     "output_type": "execute_result"
    }
   ],
   "source": [
    "date_time_df = df\n",
    "\n",
    "date_time_df.head()"
   ]
  }
 ],
 "metadata": {
  "kernelspec": {
   "display_name": "base",
   "language": "python",
   "name": "python3"
  },
  "language_info": {
   "codemirror_mode": {
    "name": "ipython",
    "version": 3
   },
   "file_extension": ".py",
   "mimetype": "text/x-python",
   "name": "python",
   "nbconvert_exporter": "python",
   "pygments_lexer": "ipython3",
   "version": "3.12.3"
  }
 },
 "nbformat": 4,
 "nbformat_minor": 2
}
